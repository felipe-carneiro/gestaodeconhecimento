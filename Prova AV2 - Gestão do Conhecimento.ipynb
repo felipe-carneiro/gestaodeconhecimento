{
  "cells": [
    {
      "metadata": {
        "trusted": true
      },
      "cell_type": "code",
      "source": "",
      "execution_count": null,
      "outputs": []
    },
    {
      "metadata": {},
      "cell_type": "markdown",
      "source": "DISCIPLINA: Gestão do Conhecimento\t PROFESSOR(A): Alex Salgado\nPERÍODO: 7o. TURNO: noite AVALIAÇÃO:\n\nALUNO(A): Felipe Felix de Oliveira Carneiro\n\nGRAU: VISTO DO PROFESSOR:\n"
    },
    {
      "metadata": {},
      "cell_type": "markdown",
      "source": "# Questão 1 - valor (1,0)\n"
    },
    {
      "metadata": {},
      "cell_type": "markdown",
      "source": "*** Crie um repositório no Github e adicione este arquivo no mesmo\n\n\n1.1 - Você deve escolher uma base de dados aberta que seja possível treinar um modelo de aprendizagem de máquina Supervisionado de Classificação (assim como o exemplo da Iris e Cancer). A partir desta base de dados, você vai treinar o modelo, fazer previsões e calcular a acurácia do mesmo.\nObs.: Não utilizar nenhuma base de dados usada em aula ou nos trabalhos.\nAs bases de dados não poderá ser igual a do seu colega, dessa forma, preencha a planilha abaixo dizendo a sua base e seu tema. \nhttps://forms.gle/CvmN5fr4u2g5zoZRA\n\n\n** Para saber se já escolheram o mesmo que você, consulte no link abaixo.\nhttps://docs.google.com/spreadsheets/d/1E_GuH7C8vn_o-gyOeN5LavoQlByjVQb1UiVfP71OX3g/edit?usp=sharing\n"
    },
    {
      "metadata": {
        "trusted": true
      },
      "cell_type": "code",
      "source": "#https://www.kaggle.com/piyushgoyal443/red-wine-dataset/downloads/red-wine-dataset.zip/1",
      "execution_count": 1,
      "outputs": []
    },
    {
      "metadata": {},
      "cell_type": "markdown",
      "source": "1.2 - Após tratada, criar uma pasta no seu GoogleDrive e disponibilizar o link do arquivo de sua base (csv, xlsx, etc) para ser importado no seu código."
    },
    {
      "metadata": {
        "trusted": true
      },
      "cell_type": "code",
      "source": "#https://drive.google.com/open?id=1fTcRXwQ14Mv5t8_Uqb-MvUZwcrxPEFTx",
      "execution_count": 2,
      "outputs": []
    },
    {
      "metadata": {},
      "cell_type": "markdown",
      "source": "## Criar um código usando o Jupyter Notebook e responder (através de código) às seguintes questões:\n"
    },
    {
      "metadata": {},
      "cell_type": "markdown",
      "source": "# Questão 2 - valor (1,0)"
    },
    {
      "metadata": {},
      "cell_type": "markdown",
      "source": "2.1 - Importar os modulos python para machine learn e carregar o arquivo \n\n** Sugestão se for do tipo xlsx, usar o read_excel do pandas\nimport pandas as pd\ndt = pd.read_excel(\"meuarquivo.xlsx\")\n"
    },
    {
      "metadata": {
        "trusted": true
      },
      "cell_type": "code",
      "source": "import pandas as pd\ndata = pd.read_csv('https://docs.google.com/spreadsheets/d/1bREQwDfWXle9Jo8RBtsOHEn0xmIXm9-7dZgp0YpAwi4/export?format=csv&gid=453502537', index_col=0)",
      "execution_count": 3,
      "outputs": []
    },
    {
      "metadata": {},
      "cell_type": "markdown",
      "source": "2.2 - Exibir os primeiros registros desta tabela.\n"
    },
    {
      "metadata": {
        "trusted": true
      },
      "cell_type": "code",
      "source": "data.head()",
      "execution_count": 4,
      "outputs": [
        {
          "output_type": "execute_result",
          "execution_count": 4,
          "data": {
            "text/html": "<div>\n<table border=\"1\" class=\"dataframe\">\n  <thead>\n    <tr style=\"text-align: right;\">\n      <th></th>\n      <th>fixed.acidity</th>\n      <th>volatile.acidity</th>\n      <th>citric.acid</th>\n      <th>residual.sugar</th>\n      <th>chlorides</th>\n      <th>free.sulfur.dioxide</th>\n      <th>total.sulfur.dioxide</th>\n      <th>density</th>\n      <th>pH</th>\n      <th>sulphates</th>\n      <th>alcohol</th>\n      <th>quality</th>\n    </tr>\n  </thead>\n  <tbody>\n    <tr>\n      <th>1</th>\n      <td>7.4</td>\n      <td>0.7</td>\n      <td>0.0</td>\n      <td>1.9</td>\n      <td>76.0</td>\n      <td>11.0</td>\n      <td>34.0</td>\n      <td>9978</td>\n      <td>351.0</td>\n      <td>56.0</td>\n      <td>9.4</td>\n      <td>5</td>\n    </tr>\n    <tr>\n      <th>2</th>\n      <td>7.8</td>\n      <td>88.0</td>\n      <td>0.0</td>\n      <td>2.6</td>\n      <td>98.0</td>\n      <td>25.0</td>\n      <td>67.0</td>\n      <td>9968</td>\n      <td>3.2</td>\n      <td>68.0</td>\n      <td>9.8</td>\n      <td>5</td>\n    </tr>\n    <tr>\n      <th>3</th>\n      <td>7.8</td>\n      <td>76.0</td>\n      <td>4.0</td>\n      <td>2.3</td>\n      <td>92.0</td>\n      <td>15.0</td>\n      <td>54.0</td>\n      <td>997</td>\n      <td>326.0</td>\n      <td>65.0</td>\n      <td>9.8</td>\n      <td>5</td>\n    </tr>\n    <tr>\n      <th>4</th>\n      <td>11.2</td>\n      <td>28.0</td>\n      <td>56.0</td>\n      <td>1.9</td>\n      <td>75.0</td>\n      <td>17.0</td>\n      <td>60.0</td>\n      <td>998</td>\n      <td>316.0</td>\n      <td>58.0</td>\n      <td>9.8</td>\n      <td>6</td>\n    </tr>\n    <tr>\n      <th>5</th>\n      <td>7.4</td>\n      <td>0.7</td>\n      <td>0.0</td>\n      <td>1.9</td>\n      <td>76.0</td>\n      <td>11.0</td>\n      <td>34.0</td>\n      <td>9978</td>\n      <td>351.0</td>\n      <td>56.0</td>\n      <td>9.4</td>\n      <td>5</td>\n    </tr>\n  </tbody>\n</table>\n</div>",
            "text/plain": "   fixed.acidity  volatile.acidity  citric.acid  residual.sugar  chlorides  \\\n1            7.4               0.7          0.0             1.9       76.0   \n2            7.8              88.0          0.0             2.6       98.0   \n3            7.8              76.0          4.0             2.3       92.0   \n4           11.2              28.0         56.0             1.9       75.0   \n5            7.4               0.7          0.0             1.9       76.0   \n\n   free.sulfur.dioxide  total.sulfur.dioxide  density     pH  sulphates  \\\n1                 11.0                  34.0     9978  351.0       56.0   \n2                 25.0                  67.0     9968    3.2       68.0   \n3                 15.0                  54.0      997  326.0       65.0   \n4                 17.0                  60.0      998  316.0       58.0   \n5                 11.0                  34.0     9978  351.0       56.0   \n\n   alcohol  quality  \n1      9.4        5  \n2      9.8        5  \n3      9.8        5  \n4      9.8        6  \n5      9.4        5  "
          },
          "metadata": {}
        }
      ]
    },
    {
      "metadata": {},
      "cell_type": "markdown",
      "source": "2.3 - De que se trata esse banco de dados? e que tipo de previsão pode ser feito com ele?\n"
    },
    {
      "metadata": {
        "trusted": true
      },
      "cell_type": "code",
      "source": "#Esse banco se trata de dados da qualidade de amostras de vinho tonto.",
      "execution_count": 5,
      "outputs": []
    },
    {
      "metadata": {},
      "cell_type": "markdown",
      "source": "# Questão 3 - valor (0,5)\n"
    },
    {
      "metadata": {},
      "cell_type": "markdown",
      "source": "Utilizando as terminologias de Machine Learning(features e observações):\n\n"
    },
    {
      "metadata": {},
      "cell_type": "markdown",
      "source": "3.1 - Quantas \"features\" têm nessa base de dados?"
    },
    {
      "metadata": {
        "trusted": true
      },
      "cell_type": "code",
      "source": "shape = data.shape\nprint('Numero de features: {}'.format(shape[1] - 1))",
      "execution_count": 6,
      "outputs": [
        {
          "output_type": "stream",
          "text": "Numero de features: 11\n",
          "name": "stdout"
        }
      ]
    },
    {
      "metadata": {},
      "cell_type": "markdown",
      "source": "3.2 - Quantas observações têm nessa base de dados?\n"
    },
    {
      "metadata": {
        "trusted": true
      },
      "cell_type": "code",
      "source": "print('Numero de observações: {}'.format(shape[0]))",
      "execution_count": 7,
      "outputs": [
        {
          "output_type": "stream",
          "text": "Numero de observações: 1599\n",
          "name": "stdout"
        }
      ]
    },
    {
      "metadata": {},
      "cell_type": "markdown",
      "source": "# Questão 4 - valor (1,5)\n"
    },
    {
      "metadata": {},
      "cell_type": "markdown",
      "source": "4.1 - Faça uma previsão, usando o algoritmo de LogisticRegression.\n"
    },
    {
      "metadata": {
        "trusted": true
      },
      "cell_type": "code",
      "source": "x_vars = []\nfor column in data.columns:\n    x_vars.append(column)\nx_vars.remove('quality')\nX = data[x_vars].values\ny = data['quality'].values\nfrom sklearn.linear_model import LogisticRegression\nlogreg = LogisticRegression()\nlogreg.fit(X, y)\nlogreg.predict(X)\ny_pred = logreg.predict(X)\nlen(y_pred)",
      "execution_count": 8,
      "outputs": [
        {
          "output_type": "execute_result",
          "execution_count": 8,
          "data": {
            "text/plain": "1599"
          },
          "metadata": {}
        }
      ]
    },
    {
      "metadata": {},
      "cell_type": "markdown",
      "source": "# Questão 5 - valor (2,0)\n"
    },
    {
      "metadata": {},
      "cell_type": "markdown",
      "source": "Usando o método de avaliação de acurácia (Treinar e testar na base de dados inteira/Train test entire model), Calcular a acurácia de cada um dos 3 métodos abaixo."
    },
    {
      "metadata": {},
      "cell_type": "markdown",
      "source": "4.1 - Acurácia usando o algoritmo de KNN (com 1 vizinho, k=1)\n"
    },
    {
      "metadata": {
        "trusted": true
      },
      "cell_type": "code",
      "source": "from sklearn.neighbors import KNeighborsClassifier\nfrom sklearn import metrics\n\nknn = KNeighborsClassifier(n_neighbors=1)\nknn.fit(X, y)\ny_pred = knn.predict(X)\nprint(metrics.accuracy_score(y, y_pred))",
      "execution_count": 9,
      "outputs": [
        {
          "output_type": "stream",
          "text": "1.0\n",
          "name": "stdout"
        }
      ]
    },
    {
      "metadata": {},
      "cell_type": "markdown",
      "source": "4.2 - Acurácia usando o algoritmo de KNN (com 5 vizinho, k=5)\n"
    },
    {
      "metadata": {
        "trusted": true
      },
      "cell_type": "code",
      "source": "knn = KNeighborsClassifier(n_neighbors=5)\nknn.fit(X, y)\ny_pred = knn.predict(X)\nprint(metrics.accuracy_score(y, y_pred))",
      "execution_count": 10,
      "outputs": [
        {
          "output_type": "stream",
          "text": "0.6860537836147592\n",
          "name": "stdout"
        }
      ]
    },
    {
      "metadata": {},
      "cell_type": "markdown",
      "source": "4.3 - Acurácia usando o algoritmo de LogisticRegression\n"
    },
    {
      "metadata": {
        "trusted": true
      },
      "cell_type": "code",
      "source": "logreg.fit(X, y)\nlogreg.predict(X)\ny_pred = logreg.predict(X)\nprint(metrics.accuracy_score(y, y_pred))",
      "execution_count": 11,
      "outputs": [
        {
          "output_type": "stream",
          "text": "0.3989993746091307\n",
          "name": "stdout"
        }
      ]
    },
    {
      "metadata": {},
      "cell_type": "markdown",
      "source": "4.4 - De acordo com seus resultados anteriores, qual dos 3 métodos é mais eficiente?\n"
    },
    {
      "metadata": {
        "trusted": true
      },
      "cell_type": "code",
      "source": "#O primeiro método é o mais eficiente.",
      "execution_count": 12,
      "outputs": []
    },
    {
      "metadata": {
        "trusted": false
      },
      "cell_type": "code",
      "source": "*** Envie o link do seu Github com essa resposta no Classroom\n",
      "execution_count": null,
      "outputs": []
    }
  ],
  "metadata": {
    "kernelspec": {
      "name": "python3",
      "display_name": "Python 3",
      "language": "python"
    },
    "language_info": {
      "mimetype": "text/x-python",
      "nbconvert_exporter": "python",
      "name": "python",
      "file_extension": ".py",
      "version": "3.5.4",
      "pygments_lexer": "ipython3",
      "codemirror_mode": {
        "version": 3,
        "name": "ipython"
      }
    }
  },
  "nbformat": 4,
  "nbformat_minor": 2
}